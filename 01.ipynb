{
  "cells": [
    {
      "cell_type": "code",
      "source": [
        "function getWord(array){\n",
        "  let min = 0; let max= array.length-1;\n",
        "  let random= Math.floor(Math.random()*(max-min))+min;\n",
        "  return array[random]\n",
        "}\n",
        "\n",
        "function change(text, aOriginal,aChanged ){\n",
        "    let index=-1;\n",
        "  \n",
        "    while(index<0){\n",
        "        char=getWord(text)\n",
        "        console.log(char)\n",
        "        index=aOriginal.indexOf(char)\n",
        "    }\n",
        "  \n",
        "    text=text.replace(char, aChanged[index]);\n",
        "    return text;\n",
        "}\n",
        "\n",
        "function getNumber(text){\n",
        "    let original=[\"a\",\"b\",\"e\",\"i\",\"g\",\"o\",\"q\",\"s\",\"t\",\"z\"];\n",
        "    let numbers=[4,8,3,1,6,0,9,5,7,2];\n",
        "    return change(text,original, numbers);\n",
        "}\n",
        "\n",
        "function getSymbol(text){\n",
        "    let original=[\"a\",\"c\",\"d\",\"i\",\"l\",\"o\",\"p\",\"s\",\"y\"];\n",
        "    let symbols=[\"@\",\"(\",\")\",\"!\",\"/\",\"*\",\"?\",\"$\",\"&\"];\n",
        "    return change(text,original, symbols);\n",
        "}\n",
        "\n",
        "function getMayus(text){\n",
        "    let az=\"abcdefghijklmnopqrstuvwxyz\";\n",
        "    let original=Array.from(az)\n",
        "    let AZ = Array.from(az.toUpperCase())\n",
        "    return change(text,original, AZ)\n",
        "}\n",
        "\n",
        "function valid(text){\n",
        "    const expression = /^(?=.*\\d)(?=.*[a-z])(?=.*[A-Z])(?=.*[^a-zA-Z0-9])(?!.@*\\s).{8,15}$/i;\n",
        "    return expression.test(text);\n",
        "}"
      ],
      "outputs": [],
      "execution_count": 4,
      "metadata": {
        "collapsed": false,
        "outputHidden": false,
        "inputHidden": false
      }
    },
    {
      "cell_type": "code",
      "source": [
        "words=[\"diccionario\",\"pesadilla\",\"bicicleta\",\"hablando\", \"palabras\", \"galletas\", \"televisor\"]\n",
        "aWord=getWord(words)\n",
        "console.log(aWord=getSymbol(aWord))\n",
        "console.log(aWord=getNumber(aWord))\n",
        "console.log(aWord=getMayus(aWord))\n",
        "console.log(\"Is valid: \",valid(aWord))"
      ],
      "outputs": [
        {
          "output_type": "stream",
          "name": "stdout",
          "text": [
            "c\n",
            "bi(icleta\n",
            "i\n",
            "b1(icleta\n",
            "l\n",
            "b1(icLeta\n",
            "Is valid:  true\n"
          ]
        }
      ],
      "execution_count": 8,
      "metadata": {
        "collapsed": false,
        "outputHidden": false,
        "inputHidden": false
      }
    }
  ],
  "metadata": {
    "kernel_info": {
      "name": "node_nteract"
    },
    "language_info": {
      "name": "javascript",
      "version": "10.2.0",
      "mimetype": "application/javascript",
      "file_extension": ".js"
    },
    "kernelspec": {
      "name": "node_nteract",
      "language": "javascript",
      "display_name": "Node.js (nteract)"
    },
    "nteract": {
      "version": "0.14.0"
    }
  },
  "nbformat": 4,
  "nbformat_minor": 0
}